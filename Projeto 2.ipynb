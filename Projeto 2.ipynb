{
 "cells": [
  {
   "cell_type": "markdown",
   "metadata": {},
   "source": [
    "### Integrantes do grupo:\n",
    "Luca Coutinho Melão\n",
    "\n",
    "Thiago de Donato Youssef\n",
    "\n",
    "Artur Reppucci Vaz de Lima\n",
    "\n",
    "Vitor Fortes Giuliano Riccetti\n",
    "### Turma B"
   ]
  },
  {
   "cell_type": "markdown",
   "metadata": {},
   "source": [
    "## Leitura do Dataset\n",
    "Aqui são realizados os imports necessários para o projeto e a leitura do dataset."
   ]
  },
  {
   "cell_type": "code",
   "execution_count": 65,
   "metadata": {},
   "outputs": [],
   "source": [
    "'''\n",
    "Importando as bibliotecas necessárias para o trabalho\n",
    "'''\n",
    "%matplotlib inline\n",
    "import pandas as pd\n",
    "import seaborn as sns\n",
    "import statsmodels.api as sm\n",
    "import matplotlib.pyplot as plt\n",
    "import numpy as np\n",
    "import os\n",
    "import re\n",
    "from sklearn.model_selection import train_test_split, cross_val_predict\n",
    "from sklearn.linear_model import LogisticRegression\n",
    "from sklearn.metrics import confusion_matrix, f1_score\n",
    "from sklearn.tree import DecisionTreeClassifier \n",
    "from sklearn import metrics"
   ]
  },
  {
   "cell_type": "code",
   "execution_count": 66,
   "metadata": {},
   "outputs": [
    {
     "name": "stdout",
     "output_type": "stream",
     "text": [
      "Encontrei o arquivo heart_failure_clinical_records_dataset.csv, tudo certo para prosseguir com o projeto!\n"
     ]
    }
   ],
   "source": [
    "'''\n",
    "Leitura do dataset\n",
    "'''\n",
    "\n",
    "filename = 'heart_failure_clinical_records_dataset.csv'\n",
    "if filename in os.listdir():\n",
    "    print(f'Encontrei o arquivo {filename}, tudo certo para prosseguir com o projeto!')\n",
    "else:\n",
    "    print(f'Não encontrei o arquivo {filename} aqui no diretório {os.getcwd()}, será que você não baixou o arquivo?')"
   ]
  },
  {
   "cell_type": "markdown",
   "metadata": {},
   "source": [
    "## A. Introdução do projeto\n",
    "\n",
    "O objetivo do projeto é a elaboração de um Machine Learning que realiza a predição da mortalidade de pacientes por parada cardíaca/problemas cardiovasculares. Deseja-se prever uma informação numérica que remete ao risco de morte, portanto, trata-se de um target quantitativo. \n",
    "\n",
    "Com isso, é possível prever casos futuros em que um novo paciente/cliente venha a apresentar o problema no futuro para conduzi-lo ao tratamento antecipado e evitar a falência. Em outro contexto, isso também pode alertar uma seguradore do risco de um cliente acionar o seguro de vida, e a partir disso permitir que ela tome medidas com relação a precificação do mesmo.\n",
    "\n",
    "O dataset adotado é descrito abaixo, e apresenta 12 features que contribuem para nosso modelo."
   ]
  },
  {
   "cell_type": "markdown",
   "metadata": {},
   "source": [
    "# B. Minerando Dados e Características do Dataset "
   ]
  },
  {
   "cell_type": "markdown",
   "metadata": {},
   "source": [
    "### Heart failure clinic data\n",
    "\n",
    "Entre as muitas competições disponíveis na plataforma Kaggle, encontra-se a de *Machine Learning* de casos de parada cardíaca conforme apresentado neste [link](https://www.kaggle.com/andrewmvd/heart-failure-clinical-data).\n",
    "\n",
    "A base de dados apresentada no arquivo contém informação de 298 pacientes para os quais foram mensurados os seguintes parâmetros (as categorias serão mantidas em inglês assim como os nomes das variáveis):\n",
    " \n",
    " * `age`: indica a idade do paciente.\n",
    " * `anaemia`: indica se paciente tem anemia. (boolean)\n",
    "    - 0 = No,\n",
    "    - 1 = Yes.\n",
    " * `creatinine_phosphokinase`: indica  o nível de enzima CPK no sangue em (mcg/L).\n",
    " * `diabetes`: indica se o paciente tem diabetes. (boolean)\n",
    "    - 0 = No,\n",
    "    - 1 = Yes.\n",
    " * `ejection_fraction`: porcentagem do sangue que deixa o coração a cada contração.\n",
    " * `high_blood_pressure`: indica se o paciente tem hipertensão ou não. (boolean)\n",
    "    - 0 = No, \n",
    "    - 1 = Yes. \n",
    " * `platelets`: número de plaquetas no sangue do paciente (kiloplatelets/mL).\n",
    " * `serum_creatinine`: nível de cretinina sérica no sangue do paciente (mg/dL).\n",
    " * `serum_sodium`: nível de sódio sérico no sangue (mEq/L).\n",
    " * `sex`: indica se o paciente é do sexo masculino ou feminino. (boolean)\n",
    "    - 0 = Feminino, \n",
    "    - 1 = Masculino.\n",
    " * `smoking`: indica se o paciente é fumante. (boolean)\n",
    "    - 0 = No, \n",
    "    - 1 = Yes. \n",
    " * `DEATH_EVENT`: indica se o paciente morreu. (boolean)\n",
    "    - 0 = No, \n",
    "    - 1 = Yes."
   ]
  },
  {
   "cell_type": "markdown",
   "metadata": {},
   "source": [
    "#### Leitura do dataset que contém dados do problema estudado."
   ]
  },
  {
   "cell_type": "code",
   "execution_count": 67,
   "metadata": {},
   "outputs": [
    {
     "data": {
      "text/html": [
       "<div>\n",
       "<style scoped>\n",
       "    .dataframe tbody tr th:only-of-type {\n",
       "        vertical-align: middle;\n",
       "    }\n",
       "\n",
       "    .dataframe tbody tr th {\n",
       "        vertical-align: top;\n",
       "    }\n",
       "\n",
       "    .dataframe thead th {\n",
       "        text-align: right;\n",
       "    }\n",
       "</style>\n",
       "<table border=\"1\" class=\"dataframe\">\n",
       "  <thead>\n",
       "    <tr style=\"text-align: right;\">\n",
       "      <th></th>\n",
       "      <th>age</th>\n",
       "      <th>anaemia</th>\n",
       "      <th>creatinine_phosphokinase</th>\n",
       "      <th>diabetes</th>\n",
       "      <th>ejection_fraction</th>\n",
       "      <th>high_blood_pressure</th>\n",
       "      <th>platelets</th>\n",
       "      <th>serum_creatinine</th>\n",
       "      <th>serum_sodium</th>\n",
       "      <th>sex</th>\n",
       "      <th>smoking</th>\n",
       "      <th>DEATH_EVENT</th>\n",
       "    </tr>\n",
       "  </thead>\n",
       "  <tbody>\n",
       "    <tr>\n",
       "      <th>0</th>\n",
       "      <td>75.0</td>\n",
       "      <td>0</td>\n",
       "      <td>582</td>\n",
       "      <td>0</td>\n",
       "      <td>20</td>\n",
       "      <td>1</td>\n",
       "      <td>265000.00</td>\n",
       "      <td>1.9</td>\n",
       "      <td>130</td>\n",
       "      <td>1</td>\n",
       "      <td>0</td>\n",
       "      <td>1</td>\n",
       "    </tr>\n",
       "    <tr>\n",
       "      <th>1</th>\n",
       "      <td>55.0</td>\n",
       "      <td>0</td>\n",
       "      <td>7861</td>\n",
       "      <td>0</td>\n",
       "      <td>38</td>\n",
       "      <td>0</td>\n",
       "      <td>263358.03</td>\n",
       "      <td>1.1</td>\n",
       "      <td>136</td>\n",
       "      <td>1</td>\n",
       "      <td>0</td>\n",
       "      <td>1</td>\n",
       "    </tr>\n",
       "    <tr>\n",
       "      <th>2</th>\n",
       "      <td>65.0</td>\n",
       "      <td>0</td>\n",
       "      <td>146</td>\n",
       "      <td>0</td>\n",
       "      <td>20</td>\n",
       "      <td>0</td>\n",
       "      <td>162000.00</td>\n",
       "      <td>1.3</td>\n",
       "      <td>129</td>\n",
       "      <td>1</td>\n",
       "      <td>1</td>\n",
       "      <td>1</td>\n",
       "    </tr>\n",
       "    <tr>\n",
       "      <th>3</th>\n",
       "      <td>50.0</td>\n",
       "      <td>1</td>\n",
       "      <td>111</td>\n",
       "      <td>0</td>\n",
       "      <td>20</td>\n",
       "      <td>0</td>\n",
       "      <td>210000.00</td>\n",
       "      <td>1.9</td>\n",
       "      <td>137</td>\n",
       "      <td>1</td>\n",
       "      <td>0</td>\n",
       "      <td>1</td>\n",
       "    </tr>\n",
       "    <tr>\n",
       "      <th>4</th>\n",
       "      <td>65.0</td>\n",
       "      <td>1</td>\n",
       "      <td>160</td>\n",
       "      <td>1</td>\n",
       "      <td>20</td>\n",
       "      <td>0</td>\n",
       "      <td>327000.00</td>\n",
       "      <td>2.7</td>\n",
       "      <td>116</td>\n",
       "      <td>0</td>\n",
       "      <td>0</td>\n",
       "      <td>1</td>\n",
       "    </tr>\n",
       "    <tr>\n",
       "      <th>...</th>\n",
       "      <td>...</td>\n",
       "      <td>...</td>\n",
       "      <td>...</td>\n",
       "      <td>...</td>\n",
       "      <td>...</td>\n",
       "      <td>...</td>\n",
       "      <td>...</td>\n",
       "      <td>...</td>\n",
       "      <td>...</td>\n",
       "      <td>...</td>\n",
       "      <td>...</td>\n",
       "      <td>...</td>\n",
       "    </tr>\n",
       "    <tr>\n",
       "      <th>294</th>\n",
       "      <td>62.0</td>\n",
       "      <td>0</td>\n",
       "      <td>61</td>\n",
       "      <td>1</td>\n",
       "      <td>38</td>\n",
       "      <td>1</td>\n",
       "      <td>155000.00</td>\n",
       "      <td>1.1</td>\n",
       "      <td>143</td>\n",
       "      <td>1</td>\n",
       "      <td>1</td>\n",
       "      <td>0</td>\n",
       "    </tr>\n",
       "    <tr>\n",
       "      <th>295</th>\n",
       "      <td>55.0</td>\n",
       "      <td>0</td>\n",
       "      <td>1820</td>\n",
       "      <td>0</td>\n",
       "      <td>38</td>\n",
       "      <td>0</td>\n",
       "      <td>270000.00</td>\n",
       "      <td>1.2</td>\n",
       "      <td>139</td>\n",
       "      <td>0</td>\n",
       "      <td>0</td>\n",
       "      <td>0</td>\n",
       "    </tr>\n",
       "    <tr>\n",
       "      <th>296</th>\n",
       "      <td>45.0</td>\n",
       "      <td>0</td>\n",
       "      <td>2060</td>\n",
       "      <td>1</td>\n",
       "      <td>60</td>\n",
       "      <td>0</td>\n",
       "      <td>742000.00</td>\n",
       "      <td>0.8</td>\n",
       "      <td>138</td>\n",
       "      <td>0</td>\n",
       "      <td>0</td>\n",
       "      <td>0</td>\n",
       "    </tr>\n",
       "    <tr>\n",
       "      <th>297</th>\n",
       "      <td>45.0</td>\n",
       "      <td>0</td>\n",
       "      <td>2413</td>\n",
       "      <td>0</td>\n",
       "      <td>38</td>\n",
       "      <td>0</td>\n",
       "      <td>140000.00</td>\n",
       "      <td>1.4</td>\n",
       "      <td>140</td>\n",
       "      <td>1</td>\n",
       "      <td>1</td>\n",
       "      <td>0</td>\n",
       "    </tr>\n",
       "    <tr>\n",
       "      <th>298</th>\n",
       "      <td>50.0</td>\n",
       "      <td>0</td>\n",
       "      <td>196</td>\n",
       "      <td>0</td>\n",
       "      <td>45</td>\n",
       "      <td>0</td>\n",
       "      <td>395000.00</td>\n",
       "      <td>1.6</td>\n",
       "      <td>136</td>\n",
       "      <td>1</td>\n",
       "      <td>1</td>\n",
       "      <td>0</td>\n",
       "    </tr>\n",
       "  </tbody>\n",
       "</table>\n",
       "<p>299 rows × 12 columns</p>\n",
       "</div>"
      ],
      "text/plain": [
       "      age  anaemia  creatinine_phosphokinase  diabetes  ejection_fraction  \\\n",
       "0    75.0        0                       582         0                 20   \n",
       "1    55.0        0                      7861         0                 38   \n",
       "2    65.0        0                       146         0                 20   \n",
       "3    50.0        1                       111         0                 20   \n",
       "4    65.0        1                       160         1                 20   \n",
       "..    ...      ...                       ...       ...                ...   \n",
       "294  62.0        0                        61         1                 38   \n",
       "295  55.0        0                      1820         0                 38   \n",
       "296  45.0        0                      2060         1                 60   \n",
       "297  45.0        0                      2413         0                 38   \n",
       "298  50.0        0                       196         0                 45   \n",
       "\n",
       "     high_blood_pressure  platelets  serum_creatinine  serum_sodium  sex  \\\n",
       "0                      1  265000.00               1.9           130    1   \n",
       "1                      0  263358.03               1.1           136    1   \n",
       "2                      0  162000.00               1.3           129    1   \n",
       "3                      0  210000.00               1.9           137    1   \n",
       "4                      0  327000.00               2.7           116    0   \n",
       "..                   ...        ...               ...           ...  ...   \n",
       "294                    1  155000.00               1.1           143    1   \n",
       "295                    0  270000.00               1.2           139    0   \n",
       "296                    0  742000.00               0.8           138    0   \n",
       "297                    0  140000.00               1.4           140    1   \n",
       "298                    0  395000.00               1.6           136    1   \n",
       "\n",
       "     smoking  DEATH_EVENT  \n",
       "0          0            1  \n",
       "1          0            1  \n",
       "2          1            1  \n",
       "3          0            1  \n",
       "4          0            1  \n",
       "..       ...          ...  \n",
       "294        1            0  \n",
       "295        0            0  \n",
       "296        0            0  \n",
       "297        1            0  \n",
       "298        1            0  \n",
       "\n",
       "[299 rows x 12 columns]"
      ]
     },
     "execution_count": 67,
     "metadata": {},
     "output_type": "execute_result"
    }
   ],
   "source": [
    "# Carregando base de dados\n",
    "dados = pd.read_csv(filename)\n",
    "# Retirando a coluna 'time', já que o grupo decidiu que ela não carrega informações relevantes\n",
    "dados = dados[['age','anaemia','creatinine_phosphokinase','diabetes','ejection_fraction','high_blood_pressure','platelets','serum_creatinine','serum_sodium','sex','smoking','DEATH_EVENT']]\n",
    "dados"
   ]
  },
  {
   "cell_type": "markdown",
   "metadata": {},
   "source": [
    "#### Filtros para exploração do dataset.\n",
    "Os filtros contribuem para que analisemos como cada parâmetro afeta nossa análise."
   ]
  },
  {
   "cell_type": "code",
   "execution_count": 109,
   "metadata": {},
   "outputs": [],
   "source": [
    "# Filtro por sexo:\n",
    "filtro_mulher = dados['sex'] == 0\n",
    "filtro_homem = dados['sex'] == 1\n",
    "\n",
    "# Filtro sobrevivente:\n",
    "filtro_sobrevivente = dados['DEATH_EVENT'] == 0\n",
    "filtro_n_sobrevivente = dados['DEATH_EVENT'] == 1\n",
    "\n",
    "# Filtro fumantes:\n",
    "filtro_n_fumante = dados['smoking'] == 0\n",
    "filtro_fumante = dados['smoking'] == 1\n",
    "\n",
    "# Filtro hipertensao:\n",
    "filtro_n_hipertensao = dados['high_blood_pressure'] == 0\n",
    "filtro_hipertensao = dados['high_blood_pressure'] == 1\n"
   ]
  },
  {
   "cell_type": "code",
   "execution_count": 69,
   "metadata": {},
   "outputs": [],
   "source": [
    "# Sobreviventes e não sobreviventes\n",
    "surv = dados.loc[filtro_sobrevivente]\n",
    "nao_surv = dados.loc[filtro_n_sobrevivente]\n",
    "\n",
    "#  Mulheres (sobreviventes/não sobreviventes)\n",
    "mulher_surv = dados.loc[filtro_mulher & filtro_sobrevivente]\n",
    "mulher_nao_surv = dados.loc[filtro_mulher & filtro_n_sobrevivente]\n",
    "\n",
    "# Homens ((sobreviventes/não sobreviventes))\n",
    "homem_surv = dados.loc[filtro_homem & filtro_sobrevivente]\n",
    "homem_nao_surv = dados.loc[filtro_homem & filtro_n_sobrevivente]\n",
    "\n",
    "# Fumantes e não fumantes\n",
    "fum = dados.loc[filtro_fumante]\n",
    "n_fum = dados.loc[filtro_n_fumante]\n",
    "\n",
    "# Com hipertensão e sem hipertensão\n",
    "hip = dados.loc[filtro_hipertensao]\n",
    "n_hip = dados.loc[filtro_n_hipertensao]"
   ]
  },
  {
   "cell_type": "code",
   "execution_count": 70,
   "metadata": {},
   "outputs": [],
   "source": [
    "# Usando o comando '.describe()' para analisar cada coluna \n",
    "\n",
    "dados_surv = surv.describe()\n",
    "dados_nao_surv = nao_surv.describe()\n",
    "\n",
    "dados_mulheres_surv = mulher_surv.describe()\n",
    "dados_mulheres_nao_surv = mulher_nao_surv.describe()\n",
    "\n",
    "dados_homens_surv = homem_surv.describe()\n",
    "dados_homens_nao_surv = homem_nao_surv.describe() \n"
   ]
  },
  {
   "cell_type": "code",
   "execution_count": 71,
   "metadata": {},
   "outputs": [],
   "source": [
    "# Função que realiza a regressão com uma constante adicionada\n",
    "\n",
    "def regress_logistic(X,Y):\n",
    "    '''\n",
    "    Y: coluna do DataFrame utilizada como variável resposta (TARGET)\n",
    "    X: coluna(s) do DataFrame utilizadas como variável(is) explicativas (FEATURES)\n",
    "    '''\n",
    "    X_cp = sm.add_constant(X)\n",
    "    model = sm.Logit(Y,X_cp)\n",
    "    results = model.fit()\n",
    "    return results\n"
   ]
  },
  {
   "cell_type": "code",
   "execution_count": 72,
   "metadata": {},
   "outputs": [],
   "source": [
    "# Filtrando as colunas da base de dados para outro dataframe que será usado.\n",
    "df = dados[['age','anaemia','creatinine_phosphokinase','diabetes','ejection_fraction','high_blood_pressure','platelets','serum_creatinine','serum_sodium','sex','smoking','DEATH_EVENT']]\n"
   ]
  },
  {
   "cell_type": "markdown",
   "metadata": {},
   "source": [
    "### Visualizando o describe para pacientes que sobreviveram e para os que não sobreviveram, respectivamente."
   ]
  },
  {
   "cell_type": "markdown",
   "metadata": {},
   "source": [
    "Essa visualização nos permite ter uma noção das medidas de dispersão das diferentes features adotadas no modelo."
   ]
  },
  {
   "cell_type": "code",
   "execution_count": 73,
   "metadata": {},
   "outputs": [
    {
     "data": {
      "text/html": [
       "<div>\n",
       "<style scoped>\n",
       "    .dataframe tbody tr th:only-of-type {\n",
       "        vertical-align: middle;\n",
       "    }\n",
       "\n",
       "    .dataframe tbody tr th {\n",
       "        vertical-align: top;\n",
       "    }\n",
       "\n",
       "    .dataframe thead th {\n",
       "        text-align: right;\n",
       "    }\n",
       "</style>\n",
       "<table border=\"1\" class=\"dataframe\">\n",
       "  <thead>\n",
       "    <tr style=\"text-align: right;\">\n",
       "      <th></th>\n",
       "      <th>age</th>\n",
       "      <th>anaemia</th>\n",
       "      <th>creatinine_phosphokinase</th>\n",
       "      <th>diabetes</th>\n",
       "      <th>ejection_fraction</th>\n",
       "      <th>high_blood_pressure</th>\n",
       "      <th>platelets</th>\n",
       "      <th>serum_creatinine</th>\n",
       "      <th>serum_sodium</th>\n",
       "      <th>sex</th>\n",
       "      <th>smoking</th>\n",
       "      <th>DEATH_EVENT</th>\n",
       "    </tr>\n",
       "  </thead>\n",
       "  <tbody>\n",
       "    <tr>\n",
       "      <th>count</th>\n",
       "      <td>203.000000</td>\n",
       "      <td>203.000000</td>\n",
       "      <td>203.000000</td>\n",
       "      <td>203.000000</td>\n",
       "      <td>203.000000</td>\n",
       "      <td>203.000000</td>\n",
       "      <td>203.000000</td>\n",
       "      <td>203.000000</td>\n",
       "      <td>203.000000</td>\n",
       "      <td>203.000000</td>\n",
       "      <td>203.000000</td>\n",
       "      <td>203.0</td>\n",
       "    </tr>\n",
       "    <tr>\n",
       "      <th>mean</th>\n",
       "      <td>58.761906</td>\n",
       "      <td>0.408867</td>\n",
       "      <td>540.054187</td>\n",
       "      <td>0.418719</td>\n",
       "      <td>40.266010</td>\n",
       "      <td>0.325123</td>\n",
       "      <td>266657.489901</td>\n",
       "      <td>1.184877</td>\n",
       "      <td>137.216749</td>\n",
       "      <td>0.650246</td>\n",
       "      <td>0.325123</td>\n",
       "      <td>0.0</td>\n",
       "    </tr>\n",
       "    <tr>\n",
       "      <th>std</th>\n",
       "      <td>10.637890</td>\n",
       "      <td>0.492840</td>\n",
       "      <td>753.799572</td>\n",
       "      <td>0.494569</td>\n",
       "      <td>10.859963</td>\n",
       "      <td>0.469579</td>\n",
       "      <td>97531.202283</td>\n",
       "      <td>0.654083</td>\n",
       "      <td>3.982923</td>\n",
       "      <td>0.478071</td>\n",
       "      <td>0.469579</td>\n",
       "      <td>0.0</td>\n",
       "    </tr>\n",
       "    <tr>\n",
       "      <th>min</th>\n",
       "      <td>40.000000</td>\n",
       "      <td>0.000000</td>\n",
       "      <td>30.000000</td>\n",
       "      <td>0.000000</td>\n",
       "      <td>17.000000</td>\n",
       "      <td>0.000000</td>\n",
       "      <td>25100.000000</td>\n",
       "      <td>0.500000</td>\n",
       "      <td>113.000000</td>\n",
       "      <td>0.000000</td>\n",
       "      <td>0.000000</td>\n",
       "      <td>0.0</td>\n",
       "    </tr>\n",
       "    <tr>\n",
       "      <th>25%</th>\n",
       "      <td>50.000000</td>\n",
       "      <td>0.000000</td>\n",
       "      <td>109.000000</td>\n",
       "      <td>0.000000</td>\n",
       "      <td>35.000000</td>\n",
       "      <td>0.000000</td>\n",
       "      <td>219500.000000</td>\n",
       "      <td>0.900000</td>\n",
       "      <td>135.500000</td>\n",
       "      <td>0.000000</td>\n",
       "      <td>0.000000</td>\n",
       "      <td>0.0</td>\n",
       "    </tr>\n",
       "    <tr>\n",
       "      <th>50%</th>\n",
       "      <td>60.000000</td>\n",
       "      <td>0.000000</td>\n",
       "      <td>245.000000</td>\n",
       "      <td>0.000000</td>\n",
       "      <td>38.000000</td>\n",
       "      <td>0.000000</td>\n",
       "      <td>263000.000000</td>\n",
       "      <td>1.000000</td>\n",
       "      <td>137.000000</td>\n",
       "      <td>1.000000</td>\n",
       "      <td>0.000000</td>\n",
       "      <td>0.0</td>\n",
       "    </tr>\n",
       "    <tr>\n",
       "      <th>75%</th>\n",
       "      <td>65.000000</td>\n",
       "      <td>1.000000</td>\n",
       "      <td>582.000000</td>\n",
       "      <td>1.000000</td>\n",
       "      <td>45.000000</td>\n",
       "      <td>1.000000</td>\n",
       "      <td>302000.000000</td>\n",
       "      <td>1.200000</td>\n",
       "      <td>140.000000</td>\n",
       "      <td>1.000000</td>\n",
       "      <td>1.000000</td>\n",
       "      <td>0.0</td>\n",
       "    </tr>\n",
       "    <tr>\n",
       "      <th>max</th>\n",
       "      <td>90.000000</td>\n",
       "      <td>1.000000</td>\n",
       "      <td>5209.000000</td>\n",
       "      <td>1.000000</td>\n",
       "      <td>80.000000</td>\n",
       "      <td>1.000000</td>\n",
       "      <td>850000.000000</td>\n",
       "      <td>6.100000</td>\n",
       "      <td>148.000000</td>\n",
       "      <td>1.000000</td>\n",
       "      <td>1.000000</td>\n",
       "      <td>0.0</td>\n",
       "    </tr>\n",
       "  </tbody>\n",
       "</table>\n",
       "</div>"
      ],
      "text/plain": [
       "              age     anaemia  creatinine_phosphokinase    diabetes  \\\n",
       "count  203.000000  203.000000                203.000000  203.000000   \n",
       "mean    58.761906    0.408867                540.054187    0.418719   \n",
       "std     10.637890    0.492840                753.799572    0.494569   \n",
       "min     40.000000    0.000000                 30.000000    0.000000   \n",
       "25%     50.000000    0.000000                109.000000    0.000000   \n",
       "50%     60.000000    0.000000                245.000000    0.000000   \n",
       "75%     65.000000    1.000000                582.000000    1.000000   \n",
       "max     90.000000    1.000000               5209.000000    1.000000   \n",
       "\n",
       "       ejection_fraction  high_blood_pressure      platelets  \\\n",
       "count         203.000000           203.000000     203.000000   \n",
       "mean           40.266010             0.325123  266657.489901   \n",
       "std            10.859963             0.469579   97531.202283   \n",
       "min            17.000000             0.000000   25100.000000   \n",
       "25%            35.000000             0.000000  219500.000000   \n",
       "50%            38.000000             0.000000  263000.000000   \n",
       "75%            45.000000             1.000000  302000.000000   \n",
       "max            80.000000             1.000000  850000.000000   \n",
       "\n",
       "       serum_creatinine  serum_sodium         sex     smoking  DEATH_EVENT  \n",
       "count        203.000000    203.000000  203.000000  203.000000        203.0  \n",
       "mean           1.184877    137.216749    0.650246    0.325123          0.0  \n",
       "std            0.654083      3.982923    0.478071    0.469579          0.0  \n",
       "min            0.500000    113.000000    0.000000    0.000000          0.0  \n",
       "25%            0.900000    135.500000    0.000000    0.000000          0.0  \n",
       "50%            1.000000    137.000000    1.000000    0.000000          0.0  \n",
       "75%            1.200000    140.000000    1.000000    1.000000          0.0  \n",
       "max            6.100000    148.000000    1.000000    1.000000          0.0  "
      ]
     },
     "execution_count": 73,
     "metadata": {},
     "output_type": "execute_result"
    }
   ],
   "source": [
    "# Análise das pessoas que sobreviveram:\n",
    "\n",
    "dados_surv"
   ]
  },
  {
   "cell_type": "code",
   "execution_count": 74,
   "metadata": {},
   "outputs": [
    {
     "data": {
      "text/html": [
       "<div>\n",
       "<style scoped>\n",
       "    .dataframe tbody tr th:only-of-type {\n",
       "        vertical-align: middle;\n",
       "    }\n",
       "\n",
       "    .dataframe tbody tr th {\n",
       "        vertical-align: top;\n",
       "    }\n",
       "\n",
       "    .dataframe thead th {\n",
       "        text-align: right;\n",
       "    }\n",
       "</style>\n",
       "<table border=\"1\" class=\"dataframe\">\n",
       "  <thead>\n",
       "    <tr style=\"text-align: right;\">\n",
       "      <th></th>\n",
       "      <th>age</th>\n",
       "      <th>anaemia</th>\n",
       "      <th>creatinine_phosphokinase</th>\n",
       "      <th>diabetes</th>\n",
       "      <th>ejection_fraction</th>\n",
       "      <th>high_blood_pressure</th>\n",
       "      <th>platelets</th>\n",
       "      <th>serum_creatinine</th>\n",
       "      <th>serum_sodium</th>\n",
       "      <th>sex</th>\n",
       "      <th>smoking</th>\n",
       "      <th>DEATH_EVENT</th>\n",
       "    </tr>\n",
       "  </thead>\n",
       "  <tbody>\n",
       "    <tr>\n",
       "      <th>count</th>\n",
       "      <td>96.000000</td>\n",
       "      <td>96.000000</td>\n",
       "      <td>96.000000</td>\n",
       "      <td>96.000000</td>\n",
       "      <td>96.000000</td>\n",
       "      <td>96.00000</td>\n",
       "      <td>96.000000</td>\n",
       "      <td>96.000000</td>\n",
       "      <td>96.000000</td>\n",
       "      <td>96.000000</td>\n",
       "      <td>96.000000</td>\n",
       "      <td>96.0</td>\n",
       "    </tr>\n",
       "    <tr>\n",
       "      <th>mean</th>\n",
       "      <td>65.215281</td>\n",
       "      <td>0.479167</td>\n",
       "      <td>670.197917</td>\n",
       "      <td>0.416667</td>\n",
       "      <td>33.468750</td>\n",
       "      <td>0.40625</td>\n",
       "      <td>256381.044792</td>\n",
       "      <td>1.835833</td>\n",
       "      <td>135.375000</td>\n",
       "      <td>0.645833</td>\n",
       "      <td>0.312500</td>\n",
       "      <td>1.0</td>\n",
       "    </tr>\n",
       "    <tr>\n",
       "      <th>std</th>\n",
       "      <td>13.214556</td>\n",
       "      <td>0.502188</td>\n",
       "      <td>1316.580640</td>\n",
       "      <td>0.495595</td>\n",
       "      <td>12.525303</td>\n",
       "      <td>0.49371</td>\n",
       "      <td>98525.682856</td>\n",
       "      <td>1.468562</td>\n",
       "      <td>5.001579</td>\n",
       "      <td>0.480771</td>\n",
       "      <td>0.465946</td>\n",
       "      <td>0.0</td>\n",
       "    </tr>\n",
       "    <tr>\n",
       "      <th>min</th>\n",
       "      <td>42.000000</td>\n",
       "      <td>0.000000</td>\n",
       "      <td>23.000000</td>\n",
       "      <td>0.000000</td>\n",
       "      <td>14.000000</td>\n",
       "      <td>0.00000</td>\n",
       "      <td>47000.000000</td>\n",
       "      <td>0.600000</td>\n",
       "      <td>116.000000</td>\n",
       "      <td>0.000000</td>\n",
       "      <td>0.000000</td>\n",
       "      <td>1.0</td>\n",
       "    </tr>\n",
       "    <tr>\n",
       "      <th>25%</th>\n",
       "      <td>55.000000</td>\n",
       "      <td>0.000000</td>\n",
       "      <td>128.750000</td>\n",
       "      <td>0.000000</td>\n",
       "      <td>25.000000</td>\n",
       "      <td>0.00000</td>\n",
       "      <td>197500.000000</td>\n",
       "      <td>1.075000</td>\n",
       "      <td>133.000000</td>\n",
       "      <td>0.000000</td>\n",
       "      <td>0.000000</td>\n",
       "      <td>1.0</td>\n",
       "    </tr>\n",
       "    <tr>\n",
       "      <th>50%</th>\n",
       "      <td>65.000000</td>\n",
       "      <td>0.000000</td>\n",
       "      <td>259.000000</td>\n",
       "      <td>0.000000</td>\n",
       "      <td>30.000000</td>\n",
       "      <td>0.00000</td>\n",
       "      <td>258500.000000</td>\n",
       "      <td>1.300000</td>\n",
       "      <td>135.500000</td>\n",
       "      <td>1.000000</td>\n",
       "      <td>0.000000</td>\n",
       "      <td>1.0</td>\n",
       "    </tr>\n",
       "    <tr>\n",
       "      <th>75%</th>\n",
       "      <td>75.000000</td>\n",
       "      <td>1.000000</td>\n",
       "      <td>582.000000</td>\n",
       "      <td>1.000000</td>\n",
       "      <td>38.000000</td>\n",
       "      <td>1.00000</td>\n",
       "      <td>311000.000000</td>\n",
       "      <td>1.900000</td>\n",
       "      <td>138.250000</td>\n",
       "      <td>1.000000</td>\n",
       "      <td>1.000000</td>\n",
       "      <td>1.0</td>\n",
       "    </tr>\n",
       "    <tr>\n",
       "      <th>max</th>\n",
       "      <td>95.000000</td>\n",
       "      <td>1.000000</td>\n",
       "      <td>7861.000000</td>\n",
       "      <td>1.000000</td>\n",
       "      <td>70.000000</td>\n",
       "      <td>1.00000</td>\n",
       "      <td>621000.000000</td>\n",
       "      <td>9.400000</td>\n",
       "      <td>146.000000</td>\n",
       "      <td>1.000000</td>\n",
       "      <td>1.000000</td>\n",
       "      <td>1.0</td>\n",
       "    </tr>\n",
       "  </tbody>\n",
       "</table>\n",
       "</div>"
      ],
      "text/plain": [
       "             age    anaemia  creatinine_phosphokinase   diabetes  \\\n",
       "count  96.000000  96.000000                 96.000000  96.000000   \n",
       "mean   65.215281   0.479167                670.197917   0.416667   \n",
       "std    13.214556   0.502188               1316.580640   0.495595   \n",
       "min    42.000000   0.000000                 23.000000   0.000000   \n",
       "25%    55.000000   0.000000                128.750000   0.000000   \n",
       "50%    65.000000   0.000000                259.000000   0.000000   \n",
       "75%    75.000000   1.000000                582.000000   1.000000   \n",
       "max    95.000000   1.000000               7861.000000   1.000000   \n",
       "\n",
       "       ejection_fraction  high_blood_pressure      platelets  \\\n",
       "count          96.000000             96.00000      96.000000   \n",
       "mean           33.468750              0.40625  256381.044792   \n",
       "std            12.525303              0.49371   98525.682856   \n",
       "min            14.000000              0.00000   47000.000000   \n",
       "25%            25.000000              0.00000  197500.000000   \n",
       "50%            30.000000              0.00000  258500.000000   \n",
       "75%            38.000000              1.00000  311000.000000   \n",
       "max            70.000000              1.00000  621000.000000   \n",
       "\n",
       "       serum_creatinine  serum_sodium        sex    smoking  DEATH_EVENT  \n",
       "count         96.000000     96.000000  96.000000  96.000000         96.0  \n",
       "mean           1.835833    135.375000   0.645833   0.312500          1.0  \n",
       "std            1.468562      5.001579   0.480771   0.465946          0.0  \n",
       "min            0.600000    116.000000   0.000000   0.000000          1.0  \n",
       "25%            1.075000    133.000000   0.000000   0.000000          1.0  \n",
       "50%            1.300000    135.500000   1.000000   0.000000          1.0  \n",
       "75%            1.900000    138.250000   1.000000   1.000000          1.0  \n",
       "max            9.400000    146.000000   1.000000   1.000000          1.0  "
      ]
     },
     "execution_count": 74,
     "metadata": {},
     "output_type": "execute_result"
    }
   ],
   "source": [
    "# Análise das pessoas não sobreviveram:\n",
    "\n",
    "dados_nao_surv"
   ]
  },
  {
   "cell_type": "markdown",
   "metadata": {},
   "source": [
    "Antes de prosseguir, é necessário se assegurar de que não há valores nulos ou vazios na nossa base de dados."
   ]
  },
  {
   "cell_type": "code",
   "execution_count": 75,
   "metadata": {},
   "outputs": [
    {
     "data": {
      "text/plain": [
       "age                         0\n",
       "anaemia                     0\n",
       "creatinine_phosphokinase    0\n",
       "diabetes                    0\n",
       "ejection_fraction           0\n",
       "high_blood_pressure         0\n",
       "platelets                   0\n",
       "serum_creatinine            0\n",
       "serum_sodium                0\n",
       "sex                         0\n",
       "smoking                     0\n",
       "DEATH_EVENT                 0\n",
       "dtype: int64"
      ]
     },
     "execution_count": 75,
     "metadata": {},
     "output_type": "execute_result"
    }
   ],
   "source": [
    "# Verificando se há valaroes nulos no dataset:\n",
    "df.isnull().sum()"
   ]
  },
  {
   "cell_type": "markdown",
   "metadata": {},
   "source": [
    "Pelo resultado obtido, concluimos que não há valores nulos."
   ]
  },
  {
   "cell_type": "markdown",
   "metadata": {},
   "source": [
    "Agora vamos montar alguns **histogramas** para analisar como cada variável se comporta. Importante destacar que nessa parte a análise será feita apenas com as variáveis ***age, ejection_fraction, platelets e serum_sodium***, já que foram as que consideramos mais relevantes para nosso objetivo.\n",
    "\n",
    "Entretanto, para analisarmos melhor as informações, iremos usar o comando duas vezes, para ambos sexos, primeiro no das pessoas que não faleceram e depois no das que faleceram. Desse modo, será mais fácil enxergar os fatores predominantes na morte de alguém por doenças cardiovasculares."
   ]
  },
  {
   "cell_type": "markdown",
   "metadata": {},
   "source": [
    "##### Histograma para os homens que não faleceram"
   ]
  },
  {
   "cell_type": "code",
   "execution_count": 76,
   "metadata": {
    "scrolled": true
   },
   "outputs": [
    {
     "data": {
      "image/png": "[encoded data removed]",
      "text/plain": [
       "<Figure size 720x720 with 4 Axes>"
      ]
     },
     "metadata": {
      "needs_background": "light"
     },
     "output_type": "display_data"
    }
   ],
   "source": [
    "# Criando histogramas\n",
    "sb_plot = 1\n",
    "plt.figure(figsize=(10,10))\n",
    "lista = ['age','ejection_fraction','platelets','serum_sodium']\n",
    "for i in lista:\n",
    "    plt.subplot(2,2,sb_plot)\n",
    "    plt.hist(homem_surv[i], edgecolor='WHITE')\n",
    "    plt.xlabel('{0}'.format(i))\n",
    "    plt.ylabel('Frequência')\n",
    "    sb_plot+= 1"
   ]
  },
  {
   "cell_type": "markdown",
   "metadata": {},
   "source": [
    "##### Histograma para os homens que faleceram"
   ]
  },
  {
   "cell_type": "code",
   "execution_count": 77,
   "metadata": {},
   "outputs": [
    {
     "data": {
      "image/png": "[encoded data removed]",
      "text/plain": [
       "<Figure size 720x720 with 4 Axes>"
      ]
     },
     "metadata": {
      "needs_background": "light"
     },
     "output_type": "display_data"
    }
   ],
   "source": [
    "# Criando histogramas\n",
    "sb_plot = 1\n",
    "plt.figure(figsize=(10,10))\n",
    "lista = ['age','ejection_fraction','platelets','serum_sodium']\n",
    "for i in lista:\n",
    "    plt.subplot(2,2,sb_plot)\n",
    "    plt.hist(homem_nao_surv[i], edgecolor='WHITE')\n",
    "    plt.xlabel('{0}'.format(i))\n",
    "    plt.ylabel('Frequência')\n",
    "    sb_plot+= 1"
   ]
  },
  {
   "cell_type": "markdown",
   "metadata": {},
   "source": [
    "#### Histograma para as mulheres que não faleceram"
   ]
  },
  {
   "cell_type": "code",
   "execution_count": 78,
   "metadata": {},
   "outputs": [
    {
     "data": {
      "image/png": "[encoded data removed]",
      "text/plain": [
       "<Figure size 720x720 with 4 Axes>"
      ]
     },
     "metadata": {
      "needs_background": "light"
     },
     "output_type": "display_data"
    }
   ],
   "source": [
    "# Criando histogramas\n",
    "sb_plot = 1\n",
    "plt.figure(figsize=(10,10))\n",
    "lista = ['age','ejection_fraction','platelets','serum_sodium']\n",
    "for i in lista:\n",
    "    plt.subplot(2,2,sb_plot)\n",
    "    plt.hist(mulher_surv[i], edgecolor='WHITE')\n",
    "    plt.xlabel('{0}'.format(i))\n",
    "    plt.ylabel('Frequência')\n",
    "    sb_plot+= 1"
   ]
  },
  {
   "cell_type": "markdown",
   "metadata": {},
   "source": [
    "#### histograma para as mulheres que faleceram"
   ]
  },
  {
   "cell_type": "code",
   "execution_count": 110,
   "metadata": {},
   "outputs": [
    {
     "data": {
      "image/png": "[encoded data removed]",
      "text/plain": [
       "<Figure size 720x720 with 4 Axes>"
      ]
     },
     "metadata": {
      "needs_background": "light"
     },
     "output_type": "display_data"
    }
   ],
   "source": [
    "# Criando histogramas\n",
    "sb_plot = 1\n",
    "plt.figure(figsize=(10,10))\n",
    "lista = ['age','ejection_fraction','platelets','serum_sodium']\n",
    "for i in lista:\n",
    "    plt.subplot(2,2,sb_plot)\n",
    "    plt.hist(mulher_nao_surv[i], edgecolor='WHITE')\n",
    "    plt.xlabel('{0}'.format(i))\n",
    "    plt.ylabel('Frequência')\n",
    "    sb_plot+= 1"
   ]
  },
  {
   "cell_type": "markdown",
   "metadata": {},
   "source": [
    "# C. Modelos de Predição \n",
    "\n",
    "### Modelo adotado: Regressão Linear Múltipla"
   ]
  },
  {
   "cell_type": "code",
   "execution_count": 111,
   "metadata": {},
   "outputs": [],
   "source": [
    "# Definindo X e Y \n",
    "\n",
    "X = df[['age','anaemia','creatinine_phosphokinase','diabetes','ejection_fraction','high_blood_pressure',\n",
    "'platelets','serum_creatinine','serum_sodium','sex','smoking']] # features ou variáveis explicativas\n",
    "\n",
    "Y = df[['DEATH_EVENT']] # target ou variável resposta\n"
   ]
  },
  {
   "cell_type": "code",
   "execution_count": 81,
   "metadata": {},
   "outputs": [
    {
     "name": "stdout",
     "output_type": "stream",
     "text": [
      "Optimization terminated successfully.\n",
      "         Current function value: 0.492108\n",
      "         Iterations 6\n"
     ]
    },
    {
     "data": {
      "text/html": [
       "<table class=\"simpletable\">\n",
       "<caption>Logit Regression Results</caption>\n",
       "<tr>\n",
       "  <th>Dep. Variable:</th>      <td>DEATH_EVENT</td>   <th>  No. Observations:  </th>  <td>   299</td>  \n",
       "</tr>\n",
       "<tr>\n",
       "  <th>Model:</th>                 <td>Logit</td>      <th>  Df Residuals:      </th>  <td>   287</td>  \n",
       "</tr>\n",
       "<tr>\n",
       "  <th>Method:</th>                 <td>MLE</td>       <th>  Df Model:          </th>  <td>    11</td>  \n",
       "</tr>\n",
       "<tr>\n",
       "  <th>Date:</th>            <td>Tue, 24 Nov 2020</td> <th>  Pseudo R-squ.:     </th>  <td>0.2160</td>  \n",
       "</tr>\n",
       "<tr>\n",
       "  <th>Time:</th>                <td>22:20:23</td>     <th>  Log-Likelihood:    </th> <td> -147.14</td> \n",
       "</tr>\n",
       "<tr>\n",
       "  <th>converged:</th>             <td>True</td>       <th>  LL-Null:           </th> <td> -187.67</td> \n",
       "</tr>\n",
       "<tr>\n",
       "  <th>Covariance Type:</th>     <td>nonrobust</td>    <th>  LLR p-value:       </th> <td>9.169e-13</td>\n",
       "</tr>\n",
       "</table>\n",
       "<table class=\"simpletable\">\n",
       "<tr>\n",
       "              <td></td>                <th>coef</th>     <th>std err</th>      <th>z</th>      <th>P>|z|</th>  <th>[0.025</th>    <th>0.975]</th>  \n",
       "</tr>\n",
       "<tr>\n",
       "  <th>const</th>                    <td>    4.9643</td> <td>    4.601</td> <td>    1.079</td> <td> 0.281</td> <td>   -4.054</td> <td>   13.982</td>\n",
       "</tr>\n",
       "<tr>\n",
       "  <th>age</th>                      <td>    0.0557</td> <td>    0.013</td> <td>    4.241</td> <td> 0.000</td> <td>    0.030</td> <td>    0.081</td>\n",
       "</tr>\n",
       "<tr>\n",
       "  <th>anaemia</th>                  <td>    0.4179</td> <td>    0.301</td> <td>    1.389</td> <td> 0.165</td> <td>   -0.172</td> <td>    1.008</td>\n",
       "</tr>\n",
       "<tr>\n",
       "  <th>creatinine_phosphokinase</th> <td>    0.0003</td> <td>    0.000</td> <td>    2.034</td> <td> 0.042</td> <td> 1.06e-05</td> <td>    0.001</td>\n",
       "</tr>\n",
       "<tr>\n",
       "  <th>diabetes</th>                 <td>    0.1514</td> <td>    0.297</td> <td>    0.509</td> <td> 0.611</td> <td>   -0.431</td> <td>    0.734</td>\n",
       "</tr>\n",
       "<tr>\n",
       "  <th>ejection_fraction</th>        <td>   -0.0703</td> <td>    0.015</td> <td>   -4.731</td> <td> 0.000</td> <td>   -0.099</td> <td>   -0.041</td>\n",
       "</tr>\n",
       "<tr>\n",
       "  <th>high_blood_pressure</th>      <td>    0.4189</td> <td>    0.306</td> <td>    1.369</td> <td> 0.171</td> <td>   -0.181</td> <td>    1.019</td>\n",
       "</tr>\n",
       "<tr>\n",
       "  <th>platelets</th>                <td>-7.094e-07</td> <td> 1.62e-06</td> <td>   -0.439</td> <td> 0.661</td> <td>-3.88e-06</td> <td> 2.46e-06</td>\n",
       "</tr>\n",
       "<tr>\n",
       "  <th>serum_creatinine</th>         <td>    0.6619</td> <td>    0.173</td> <td>    3.817</td> <td> 0.000</td> <td>    0.322</td> <td>    1.002</td>\n",
       "</tr>\n",
       "<tr>\n",
       "  <th>serum_sodium</th>             <td>   -0.0567</td> <td>    0.033</td> <td>   -1.698</td> <td> 0.090</td> <td>   -0.122</td> <td>    0.009</td>\n",
       "</tr>\n",
       "<tr>\n",
       "  <th>sex</th>                      <td>   -0.3990</td> <td>    0.351</td> <td>   -1.137</td> <td> 0.255</td> <td>   -1.087</td> <td>    0.289</td>\n",
       "</tr>\n",
       "<tr>\n",
       "  <th>smoking</th>                  <td>    0.1356</td> <td>    0.349</td> <td>    0.389</td> <td> 0.697</td> <td>   -0.548</td> <td>    0.819</td>\n",
       "</tr>\n",
       "</table>"
      ],
      "text/plain": [
       "<class 'statsmodels.iolib.summary.Summary'>\n",
       "\"\"\"\n",
       "                           Logit Regression Results                           \n",
       "==============================================================================\n",
       "Dep. Variable:            DEATH_EVENT   No. Observations:                  299\n",
       "Model:                          Logit   Df Residuals:                      287\n",
       "Method:                           MLE   Df Model:                           11\n",
       "Date:                Tue, 24 Nov 2020   Pseudo R-squ.:                  0.2160\n",
       "Time:                        22:20:23   Log-Likelihood:                -147.14\n",
       "converged:                       True   LL-Null:                       -187.67\n",
       "Covariance Type:            nonrobust   LLR p-value:                 9.169e-13\n",
       "============================================================================================\n",
       "                               coef    std err          z      P>|z|      [0.025      0.975]\n",
       "--------------------------------------------------------------------------------------------\n",
       "const                        4.9643      4.601      1.079      0.281      -4.054      13.982\n",
       "age                          0.0557      0.013      4.241      0.000       0.030       0.081\n",
       "anaemia                      0.4179      0.301      1.389      0.165      -0.172       1.008\n",
       "creatinine_phosphokinase     0.0003      0.000      2.034      0.042    1.06e-05       0.001\n",
       "diabetes                     0.1514      0.297      0.509      0.611      -0.431       0.734\n",
       "ejection_fraction           -0.0703      0.015     -4.731      0.000      -0.099      -0.041\n",
       "high_blood_pressure          0.4189      0.306      1.369      0.171      -0.181       1.019\n",
       "platelets                -7.094e-07   1.62e-06     -0.439      0.661   -3.88e-06    2.46e-06\n",
       "serum_creatinine             0.6619      0.173      3.817      0.000       0.322       1.002\n",
       "serum_sodium                -0.0567      0.033     -1.698      0.090      -0.122       0.009\n",
       "sex                         -0.3990      0.351     -1.137      0.255      -1.087       0.289\n",
       "smoking                      0.1356      0.349      0.389      0.697      -0.548       0.819\n",
       "============================================================================================\n",
       "\"\"\""
      ]
     },
     "execution_count": 81,
     "metadata": {},
     "output_type": "execute_result"
    }
   ],
   "source": [
    "resultado_modelo = regress_logistic(X,Y)\n",
    "resultado_modelo.summary()"
   ]
  },
  {
   "cell_type": "markdown",
   "metadata": {},
   "source": [
    "## D. Processo e Estatísticas de Validação "
   ]
  },
  {
   "cell_type": "markdown",
   "metadata": {},
   "source": [
    "Calculando as medidas que informam a performance de cada modelo ajustado."
   ]
  },
  {
   "cell_type": "code",
   "execution_count": 82,
   "metadata": {},
   "outputs": [],
   "source": [
    "# Treinando e testando com os dados iniciais:\n",
    "# Inicialmente, todas as features  do modelo estão s endo utilizadas\n",
    "Xi = df[['age','anaemia','creatinine_phosphokinase','diabetes','ejection_fraction','high_blood_pressure',\n",
    "        'platelets','serum_creatinine','serum_sodium','sex','smoking']] # features ou variáveis explicativas\n",
    "\n",
    "Yi = df[['DEATH_EVENT']]\n",
    "\n",
    "# Criando a base de treinamento e de teste:\n",
    "Xi_train, Xi_test, Yi_train, Yi_test = train_test_split(Xi, Yi, test_size=0.40, random_state=42)"
   ]
  },
  {
   "cell_type": "markdown",
   "metadata": {},
   "source": [
    "### Aplicando a 1ª técnica: Regressão logística"
   ]
  },
  {
   "cell_type": "code",
   "execution_count": 98,
   "metadata": {
    "scrolled": true
   },
   "outputs": [
    {
     "name": "stdout",
     "output_type": "stream",
     "text": [
      "A accuracy do modelo foi de: 0.5833333333333334\n"
     ]
    },
    {
     "name": "stderr",
     "output_type": "stream",
     "text": [
      "/opt/anaconda3/lib/python3.7/site-packages/sklearn/utils/validation.py:760: DataConversionWarning: A column-vector y was passed when a 1d array was expected. Please change the shape of y to (n_samples, ), for example using ravel().\n",
      "  y = column_or_1d(y, warn=True)\n"
     ]
    }
   ],
   "source": [
    "# Treinando e testando nossa base de dados \n",
    "clf = LogisticRegression(random_state=0).fit(Xi_train, Yi_train)\n",
    "\n",
    "accuracy = clf.score(Xi_test, Yi_test)\n",
    "print(f'A accuracy do modelo foi de: {accuracy}')"
   ]
  },
  {
   "cell_type": "markdown",
   "metadata": {},
   "source": [
    "A acurácia de 58,3% foi aceitável por estar acima de 50%.\n",
    "Porém, buscando aprimorar o algoritmo, analisou-se a Summary acima e notou-se que tanto a `[platelets]` quanto `[smoke]` e `[diabetes]` estavam com o valor-P muito alto, e então foram retiradas das features a partir de uma nova filtragem das mesmas, visando melhoras no modelo."
   ]
  },
  {
   "cell_type": "code",
   "execution_count": 84,
   "metadata": {},
   "outputs": [],
   "source": [
    "# Filtragem a partir do summary acima, retirando platelets, smoke e diabetes \n",
    "\n",
    "X = df[['age','anaemia','creatinine_phosphokinase','ejection_fraction',\n",
    "        'high_blood_pressure','serum_creatinine','serum_sodium','sex']]\n",
    "\n",
    "Y = df[['DEATH_EVENT']]"
   ]
  },
  {
   "cell_type": "code",
   "execution_count": 85,
   "metadata": {},
   "outputs": [],
   "source": [
    "# Criando a base de treinamento e a base de teste:\n",
    "X_train, X_test, Y_train, Y_test = train_test_split(X, Y, test_size=0.40, random_state=42)"
   ]
  },
  {
   "cell_type": "code",
   "execution_count": 99,
   "metadata": {},
   "outputs": [
    {
     "name": "stdout",
     "output_type": "stream",
     "text": [
      "A accuracy do modelo foi de: 0.7\n"
     ]
    },
    {
     "name": "stderr",
     "output_type": "stream",
     "text": [
      "/opt/anaconda3/lib/python3.7/site-packages/sklearn/utils/validation.py:760: DataConversionWarning: A column-vector y was passed when a 1d array was expected. Please change the shape of y to (n_samples, ), for example using ravel().\n",
      "  y = column_or_1d(y, warn=True)\n",
      "/opt/anaconda3/lib/python3.7/site-packages/sklearn/linear_model/_logistic.py:940: ConvergenceWarning: lbfgs failed to converge (status=1):\n",
      "STOP: TOTAL NO. of ITERATIONS REACHED LIMIT.\n",
      "\n",
      "Increase the number of iterations (max_iter) or scale the data as shown in:\n",
      "    https://scikit-learn.org/stable/modules/preprocessing.html\n",
      "Please also refer to the documentation for alternative solver options:\n",
      "    https://scikit-learn.org/stable/modules/linear_model.html#logistic-regression\n",
      "  extra_warning_msg=_LOGISTIC_SOLVER_CONVERGENCE_MSG)\n"
     ]
    }
   ],
   "source": [
    "# Treinando e testando nossa base de dados\n",
    "\n",
    "clf = LogisticRegression(random_state = 0).fit(X_train, Y_train)\n",
    "\n",
    "clf.score(X_test, Y_test)\n",
    "\n",
    "accuracy = clf.score(X_test, Y_test)\n",
    "\n",
    "print(f'A accuracy do modelo foi de: {accuracy}')"
   ]
  },
  {
   "cell_type": "code",
   "execution_count": 106,
   "metadata": {},
   "outputs": [
    {
     "data": {
      "text/plain": [
       "0.8100558659217877"
      ]
     },
     "execution_count": 106,
     "metadata": {},
     "output_type": "execute_result"
    }
   ],
   "source": [
    "# Analisando se há overfitting.\n",
    "clf.score(X_train, Y_train)\n"
   ]
  },
  {
   "cell_type": "markdown",
   "metadata": {},
   "source": [
    "Observando o resultado obtido com a comparaçãa da medida de acurácia para as duas partes dos dados (treino e teste), temos que a acurácia do modelo quando aplicado a base de treino é 1.0, e quando aplicado a base de teste é de 0.7. Isso pode indicar qu que o modelo está tendendo a um caso de overfitting. Isso ocorre quando o algoritmo modela muito bem a base de treino, bem até demais, já que isso impacta negativamente sua capacidade de generalização ao trata uma nova base de teste. Assim, o modelo funciona bem para a base de teste, mas não para novas bases."
   ]
  },
  {
   "cell_type": "markdown",
   "metadata": {},
   "source": [
    "### Aplicando a 2ª técnica: Confusion Matrix"
   ]
  },
  {
   "cell_type": "markdown",
   "metadata": {},
   "source": [
    "O uso da matriz de confusão nos permite visualizar através de uma matriz, como sugere o próprio nome, o desempenho que o modelo teve na classificação. Ela possui a seguinte estrutura, respectivamente:\n",
    "\n",
    "- Verdadeiro positivo (casos em que o classificador previu corretamente o output positivo).\n",
    "- Falso positivo (casos em que o classificador previu incorretamente o output positivo).\n",
    "- Falso negativo (casos em que o classificador previu incorretamente o output negativo).\n",
    "- Verdadeiro negativo (casos em que o classificador previu corretamente o output negativo)."
   ]
  },
  {
   "cell_type": "code",
   "execution_count": 105,
   "metadata": {
    "scrolled": true
   },
   "outputs": [
    {
     "name": "stdout",
     "output_type": "stream",
     "text": [
      "A accuracy do modelo foi de: 0.3939393939393939\n"
     ]
    },
    {
     "name": "stderr",
     "output_type": "stream",
     "text": [
      "/opt/anaconda3/lib/python3.7/site-packages/sklearn/utils/validation.py:760: DataConversionWarning: A column-vector y was passed when a 1d array was expected. Please change the shape of y to (n_samples, ), for example using ravel().\n",
      "  y = column_or_1d(y, warn=True)\n",
      "/opt/anaconda3/lib/python3.7/site-packages/sklearn/utils/validation.py:760: DataConversionWarning: A column-vector y was passed when a 1d array was expected. Please change the shape of y to (n_samples, ), for example using ravel().\n",
      "  y = column_or_1d(y, warn=True)\n",
      "/opt/anaconda3/lib/python3.7/site-packages/sklearn/utils/validation.py:760: DataConversionWarning: A column-vector y was passed when a 1d array was expected. Please change the shape of y to (n_samples, ), for example using ravel().\n",
      "  y = column_or_1d(y, warn=True)\n",
      "/opt/anaconda3/lib/python3.7/site-packages/sklearn/linear_model/_logistic.py:940: ConvergenceWarning: lbfgs failed to converge (status=1):\n",
      "STOP: TOTAL NO. of ITERATIONS REACHED LIMIT.\n",
      "\n",
      "Increase the number of iterations (max_iter) or scale the data as shown in:\n",
      "    https://scikit-learn.org/stable/modules/preprocessing.html\n",
      "Please also refer to the documentation for alternative solver options:\n",
      "    https://scikit-learn.org/stable/modules/linear_model.html#logistic-regression\n",
      "  extra_warning_msg=_LOGISTIC_SOLVER_CONVERGENCE_MSG)\n"
     ]
    }
   ],
   "source": [
    "X = df[['age','anaemia','creatinine_phosphokinase','ejection_fraction',\n",
    "        'high_blood_pressure','serum_creatinine','serum_sodium','sex']]\n",
    "\n",
    "Y = df[['DEATH_EVENT']]\n",
    "\n",
    "X_train, X_test, Y_train, Y_test = train_test_split(X, Y, test_size=0.40, random_state=42)\n",
    "\n",
    "# Criando a predição.\n",
    "\n",
    "y_train_pred = cross_val_predict(clf, X_train, Y_train, cv=3)\n",
    " \n",
    "# Construindo uma matriz de confusão \n",
    "\n",
    "confusion_matrix(Y_train, y_train_pred)\n",
    "\n",
    "# accuracy 90%\n",
    "f1_score(Y_train, y_train_pred)\n",
    "\n",
    "accuracy = f1_score(Y_train, y_train_pred)\n",
    "print(f'A accuracy do modelo foi de: {accuracy}')"
   ]
  },
  {
   "cell_type": "code",
   "execution_count": 108,
   "metadata": {},
   "outputs": [
    {
     "data": {
      "text/plain": [
       "array([0, 0, 0, 0, 0, 0, 0, 0, 0, 1, 0, 0, 1, 1, 0, 0, 0, 0, 0, 0, 0, 0,\n",
       "       0, 0, 0, 0, 0, 0, 0, 0, 0, 0, 0, 0, 0, 1, 0, 0, 0, 0, 0, 1, 1, 0,\n",
       "       0, 0, 0, 1, 0, 0, 0, 0, 0, 0, 0, 0, 0, 0, 1, 1, 0, 0, 0, 0, 0, 0,\n",
       "       1, 0, 0, 0, 0, 0, 0, 0, 0, 1, 0, 0, 1, 0, 0, 0, 0, 0, 0, 0, 0, 0,\n",
       "       0, 0, 0, 0, 0, 0, 0, 0, 0, 1, 0, 0, 0, 0, 0, 0, 0, 0, 0, 0, 0, 0,\n",
       "       0, 0, 0, 0, 0, 0, 1, 0, 0, 0, 0, 0, 1, 0, 1, 1, 0, 0, 1, 0, 0, 0,\n",
       "       1, 0, 0, 0, 0, 0, 0, 0, 0, 0, 0, 0, 0, 0, 0, 0, 0, 0, 0, 0, 0, 0,\n",
       "       0, 0, 0, 1, 0, 0, 0, 0, 0, 0, 0, 0, 0, 0, 0, 0, 0, 0, 0, 0, 0, 0,\n",
       "       0, 0, 0])"
      ]
     },
     "execution_count": 108,
     "metadata": {},
     "output_type": "execute_result"
    }
   ],
   "source": [
    "# Visualizando a predição para o dataset de treinamento do modelo.\n",
    "y_train_pred"
   ]
  },
  {
   "cell_type": "markdown",
   "metadata": {},
   "source": [
    "Como esperado, foi retornada uma lista de 0 e 1 na predição do modelo, indicando a sobrevivência ou não sobrevivência do paciente. "
   ]
  },
  {
   "cell_type": "code",
   "execution_count": 90,
   "metadata": {},
   "outputs": [
    {
     "data": {
      "text/plain": [
       "array([[126,   7],\n",
       "       [ 33,  13]])"
      ]
     },
     "execution_count": 90,
     "metadata": {},
     "output_type": "execute_result"
    }
   ],
   "source": [
    "confusion_matrix(Y_train, y_train_pred)"
   ]
  },
  {
   "cell_type": "markdown",
   "metadata": {},
   "source": [
    "O modelo classifica melhor os verdadeiros negativos do que o restante, como mostra a matriz de confusão."
   ]
  },
  {
   "cell_type": "markdown",
   "metadata": {},
   "source": [
    "### Aplicando a Decision Tree"
   ]
  },
  {
   "cell_type": "code",
   "execution_count": 91,
   "metadata": {},
   "outputs": [
    {
     "name": "stdout",
     "output_type": "stream",
     "text": [
      "A accuracy do modelo foi de: 0.6083333333333333\n"
     ]
    }
   ],
   "source": [
    "X = df[['age','anaemia','creatinine_phosphokinase','ejection_fraction',\n",
    "        'high_blood_pressure','serum_creatinine','serum_sodium','sex']]\n",
    "\n",
    "Y = df[['DEATH_EVENT']]\n",
    "\n",
    "X_train, X_test, Y_train, Y_test = train_test_split(X, Y, test_size=0.40, random_state=42)\n",
    "\n",
    "# classificador\n",
    "clf = DecisionTreeClassifier()\n",
    "\n",
    "# processo de treinamento\n",
    "clf = clf.fit(X_train, Y_train)\n",
    "\n",
    "\n",
    "y_pred = clf.predict(X_test)\n",
    "\n",
    "accuracy = metrics.accuracy_score(Y_test, y_pred)\n",
    "print(f'A accuracy do modelo foi de: {accuracy}')"
   ]
  },
  {
   "cell_type": "code",
   "execution_count": 92,
   "metadata": {},
   "outputs": [
    {
     "data": {
      "text/plain": [
       "array([[55, 15],\n",
       "       [32, 18]])"
      ]
     },
     "execution_count": 92,
     "metadata": {},
     "output_type": "execute_result"
    }
   ],
   "source": [
    "Y_predito = clf.predict(X_test)\n",
    "confusion_matrix(Y_test, Y_predito)"
   ]
  },
  {
   "cell_type": "markdown",
   "metadata": {},
   "source": [
    "Novamente, é possível notar pela matriz de confusão que o modelo classifica melhor os verdadeiros negativos do que o restante."
   ]
  },
  {
   "cell_type": "markdown",
   "metadata": {},
   "source": [
    "## E. Conclusão "
   ]
  },
  {
   "cell_type": "markdown",
   "metadata": {},
   "source": [
    "Pontos que precisamos abordar de forma clara nessa conclusão.\n",
    "* Resultados das matrizes de confusão\n",
    "* Como se deu o processo de seleção e filtragem das features.\n",
    "* Overfitting\n",
    "* Como é o desempenho do modelo? O que explica  isso? Como poderíamos melhorar?\n",
    "* Foi possível responder a questão/problema inicial?\n",
    "\n",
    "Reiterando o que já foi apontado ao longo do relatório, o desempenho do nosso modelo foi parcialmente satisfatório."
   ]
  },
  {
   "cell_type": "markdown",
   "metadata": {},
   "source": [
    "## F. Referências bibliográficas"
   ]
  },
  {
   "cell_type": "markdown",
   "metadata": {},
   "source": [
    "https://www.geeksforgeeks.org/logistic-regression-using-statsmodels/\n",
    "\n",
    "https://www.datacamp.com/community/tutorials/decision-tree-classification-python\n",
    "\n",
    "https://www.geeksforgeeks.org/confusion-matrix-machine-learning/\n",
    "\n",
    "https://machinelearningmastery.com/overfitting-and-underfitting-with-machine-learning-algorithms/"
   ]
  },
  {
   "cell_type": "code",
   "execution_count": null,
   "metadata": {},
   "outputs": [],
   "source": []
  },
  {
   "cell_type": "code",
   "execution_count": null,
   "metadata": {},
   "outputs": [],
   "source": []
  },
  {
   "cell_type": "code",
   "execution_count": null,
   "metadata": {},
   "outputs": [],
   "source": []
  }
 ],
 "metadata": {
  "kernelspec": {
   "display_name": "Python 3",
   "language": "python",
   "name": "python3"
  },
  "language_info": {
   "codemirror_mode": {
    "name": "ipython",
    "version": 3
   },
   "file_extension": ".py",
   "mimetype": "text/x-python",
   "name": "python",
   "nbconvert_exporter": "python",
   "pygments_lexer": "ipython3",
   "version": "3.7.6"
  }
 },
 "nbformat": 4,
 "nbformat_minor": 4
}
