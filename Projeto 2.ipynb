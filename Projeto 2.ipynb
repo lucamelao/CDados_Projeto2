{
 "cells": [
  {
   "cell_type": "markdown",
   "metadata": {},
   "source": [
    "### Integrantes do grupo:\n",
    "Luca Coutinho Melão\n",
    "\n",
    "Thiago de Donato Youssef\n",
    "\n",
    "Artur Reppucci Vaz de Lima\n",
    "\n",
    "Vitor Fortes Giuliano Riccetti\n",
    "### Turma B"
   ]
  },
  {
   "cell_type": "markdown",
   "metadata": {},
   "source": [
    "## Leitura do Dataset\n",
    "Aqui são realizados os imports necessários para o projeto e a leitura do dataset."
   ]
  },
  {
   "cell_type": "code",
   "execution_count": 8,
   "metadata": {},
   "outputs": [],
   "source": [
    "'''\n",
    "Importando as bibliotecas necessárias para o trabalho\n",
    "'''\n",
    "%matplotlib inline\n",
    "import pandas as pd\n",
    "import matplotlib.pyplot as plt\n",
    "import numpy as np\n",
    "import os\n",
    "import re"
   ]
  },
  {
   "cell_type": "code",
   "execution_count": 9,
   "metadata": {},
   "outputs": [
    {
     "name": "stdout",
     "output_type": "stream",
     "text": [
      "Encontrei o arquivo heart_failure_clinical_records_dataset.csv, tudo certo para prosseguir com o projeto!\n"
     ]
    }
   ],
   "source": [
    "'''\n",
    "Leitura do dataset\n",
    "'''\n",
    "\n",
    "filename = 'heart_failure_clinical_records_dataset.csv'\n",
    "if filename in os.listdir():\n",
    "    print(f'Encontrei o arquivo {filename}, tudo certo para prosseguir com o projeto!')\n",
    "else:\n",
    "    print(f'Não encontrei o arquivo {filename} aqui no diretório {os.getcwd()}, será que você não baixou o arquivo?')"
   ]
  },
  {
   "cell_type": "markdown",
   "metadata": {},
   "source": [
    "## A. Introdução do projeto\n",
    "\n",
    "O objetivo do projeto é a elaboração de um Machine Learning que realiza a predição da mortalidade de pacientes por parada cardíaca/problemas cardiovasculares. Deseja-se prever uma informação numérica que remete ao risco de morte, portanto, trata-se de um target quantitativo. \n",
    "\n",
    "Com isso, é possível prever casos futuros em que um novo paciente/cliente venha a apresentar o problema no futuro para conduzi-lo ao tratamento antecipado e evitar a falência. Em outro contexto, isso também pode alertar uma seguradore do risco de um cliente acionar o seguro de vida, e a partir disso permitir que ela tome medidas com relação a precificação do mesmo.\n",
    "\n",
    "O dataset adotado é descrito abaixo, e apresenta 12 features que contribuem para nosso modelo."
   ]
  },
  {
   "cell_type": "markdown",
   "metadata": {},
   "source": [
    "## B. Minerando Dados e Características do Dataset "
   ]
  },
  {
   "cell_type": "markdown",
   "metadata": {},
   "source": [
    "## Heart failure clinic data\n",
    "\n",
    "Entre as muitas competições disponíveis na plataforma Kaggle, encontra-se a de *Machine Learning* de casos de parada cardíaca conforme apresentado neste [link](https://www.kaggle.com/andrewmvd/heart-failure-clinical-data).\n",
    "\n",
    "A base de dados apresentada no arquivo contém informação de 298 pacientes para os quais foram mensurados os seguintes parâmetros (as categorias serão mantidas em inglês assim como os nomes das variáveis):\n",
    " \n",
    " * `anaemia`: indica se paciente tem anemia. (boolean)\n",
    "    - 0 = No,\n",
    "    - 1 = Yes.\n",
    " * `creatinine_phosphokinase`: indica  o nível de enzima CPK no sangue em (mcg/L).\n",
    " * `diabetes`: indica se o paciente tem diabetes. (boolean)\n",
    "    - 0 = No,\n",
    "    - 1 = Yes.\n",
    " * `ejection_fraction`: porcentagem do sangue que deixa o coração a cada contração.\n",
    " * `high_blood_pressure`: indica se o paciente tem hipertensão ou não. (boolean)\n",
    "    - 0 = No, \n",
    "    - 1 = Yes. \n",
    " * `platelets`: número de plaquetas no sangue do paciente (kiloplatelets/mL).\n",
    " * `serum_creatinine`: nível de cretinina sérica no sangue do paciente (mg/dL).\n",
    " * `serum_sodium`: nível de sódio sérico no sangue (mEq/L).\n",
    " * `sex`: indica se o paciente é do sexo masculino ou feminino. (boolean)\n",
    "    - 0 = Feminino, \n",
    "    - 1 = Masculino.\n",
    " * `smoking`: indica se o paciente é fumante. (boolean)\n",
    "    - 0 = No, \n",
    "    - 1 = Yes. \n",
    " * `time`: número da cabine.\n",
    " * `DEATH_EVENT`: indica se o paciente morreu. (boolean)\n",
    "    - 0 = No, \n",
    "    - 1 = Yes."
   ]
  },
  {
   "cell_type": "code",
   "execution_count": 10,
   "metadata": {},
   "outputs": [],
   "source": [
    "dados_pre = pd.read_csv(filename)\n"
   ]
  },
  {
   "cell_type": "code",
   "execution_count": 11,
   "metadata": {},
   "outputs": [],
   "source": [
    "#Retirando a coluna 'time', já que o grupo decidiu que ela não carrega informações relevantes\n",
    "dados = dados_pre[['age','anaemia','creatinine_phosphokinase','diabetes','ejection_fraction','high_blood_pressure','platelets','serum_creatinine','serum_sodium','sex','smoking','DEATH_EVENT']]"
   ]
  },
  {
   "cell_type": "code",
   "execution_count": 18,
   "metadata": {},
   "outputs": [],
   "source": [
    "# Os filtros contribuem para que analisemos como cada parâmetro afeta nossa análise\n",
    "filtro_mulher = dados['sex'] == 0\n",
    "filtro_homem = dados['sex'] == 1\n",
    "filtro_sobrevivente = dados['DEATH_EVENT'] == 0\n",
    "filtro_n_sobrevivente = dados['DEATH_EVENT'] == 1\n",
    "filtro_n_fumante = dados['smoking'] == 0\n",
    "filtro_fumante = dados['smoking'] == 1\n",
    "filtro_n_hipertensao = dados['high_blood_pressure'] == 0\n",
    "filtro_hipertensao = dados['high_blood_pressure'] == 1\n",
    "\n",
    "# Sobreviventes e não sobreviventes\n",
    "surv = dados.loc[filtro_sobrevivente]\n",
    "nao_surv = dados.loc[filtro_n_sobrevivente]\n",
    "\n",
    "#  Mulheres (sobreviventes/não sobreviventes)\n",
    "mulher_surv = dados.loc[filtro_mulher & filtro_sobrevivente]\n",
    "mulher_nao_surv = dados.loc[filtro_mulher & filtro_n_sobrevivente]\n",
    "\n",
    "# Homens ((sobreviventes/não sobreviventes))\n",
    "homem_surv = dados.loc[filtro_homem & filtro_sobrevivente]\n",
    "homem_nao_surv = dados.loc[filtro_homem & filtro_n_sobrevivente]\n",
    "\n",
    "# Fumantes e não fumantes\n",
    "fum = dados.loc[filtro_fumante]\n",
    "n_fum = dados.loc[filtro_n_fumante]\n",
    "\n",
    "# Com hipertensão e sem hipertensão\n",
    "hip = dados.loc[filtro_hipertensao]\n",
    "n_hip = dados.loc[filtro_n_hipertensao]"
   ]
  },
  {
   "cell_type": "code",
   "execution_count": 28,
   "metadata": {},
   "outputs": [],
   "source": [
    "# Usando o comando '.describe()' para analisar cada coluna \n",
    "\n",
    "dados_surv = surv.describe()\n",
    "dados_nao_surv = nao_surv.describe()\n",
    "\n",
    "dados_mulheres_surv = mulher_surv.describe()\n",
    "dados_mulheres_nao_surv = mulher_nao_surv.describe()\n",
    "\n",
    "dados_homens_surv = homem_surv.describe()\n",
    "dados_homens_nao_surv = homem_nao_surv.describe() \n",
    "\n",
    "dados_fum = fum.describe()\n",
    "dados_n_fum = n_fum.describe()\n",
    "\n",
    "dados_hip = hip.describe()\n",
    "dados_n_hip = n_hip.describe()"
   ]
  },
  {
   "cell_type": "markdown",
   "metadata": {},
   "source": [
    "## C. Modelos de Predição "
   ]
  },
  {
   "cell_type": "markdown",
   "metadata": {},
   "source": [
    "## D. Processo e Estatísticas de Validação "
   ]
  },
  {
   "cell_type": "markdown",
   "metadata": {},
   "source": [
    "## E. Conclusão "
   ]
  },
  {
   "cell_type": "markdown",
   "metadata": {},
   "source": [
    "## F. Referências bibliográficas"
   ]
  },
  {
   "cell_type": "code",
   "execution_count": null,
   "metadata": {},
   "outputs": [],
   "source": []
  }
 ],
 "metadata": {
  "kernelspec": {
   "display_name": "Python 3",
   "language": "python",
   "name": "python3"
  },
  "language_info": {
   "codemirror_mode": {
    "name": "ipython",
    "version": 3
   },
   "file_extension": ".py",
   "mimetype": "text/x-python",
   "name": "python",
   "nbconvert_exporter": "python",
   "pygments_lexer": "ipython3",
   "version": "3.7.4"
  }
 },
 "nbformat": 4,
 "nbformat_minor": 4
}
